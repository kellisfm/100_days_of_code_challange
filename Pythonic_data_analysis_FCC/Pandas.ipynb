{
  "nbformat": 4,
  "nbformat_minor": 0,
  "metadata": {
    "colab": {
      "name": "Pandas.ipynb",
      "provenance": [],
      "authorship_tag": "ABX9TyNbQv9xw2SVAjYhxYitrR+z",
      "include_colab_link": true
    },
    "kernelspec": {
      "name": "python3",
      "display_name": "Python 3"
    }
  },
  "cells": [
    {
      "cell_type": "markdown",
      "metadata": {
        "id": "view-in-github",
        "colab_type": "text"
      },
      "source": [
        "<a href=\"https://colab.research.google.com/github/kellisfm/100_days_of_code_challange/blob/master/Pandas.ipynb\" target=\"_parent\"><img src=\"https://colab.research.google.com/assets/colab-badge.svg\" alt=\"Open In Colab\"/></a>"
      ]
    },
    {
      "cell_type": "markdown",
      "metadata": {
        "id": "-oPliotKSupN",
        "colab_type": "text"
      },
      "source": [
        "##pandas python library: \n",
        "\n",
        "Does pretty much everything for data analysis, from visualization to importing data, to statistics. Mature library, arguably the most important library for data science\n",
        "\n",
        "###Pandas data types:\n",
        "\n",
        "\n",
        "####series:\n",
        "\n",
        "ordered series of elements, similar to a list but with its own data type, series can also have a name element. similar functionality to numpy arrays, but can define index like a dictionary! Array = numpy list, series = numpy dic (but also ordered like a list).\n",
        "\n",
        "####Data frame:\n",
        "\n",
        "similar to xcel spreadsheets, commonly made from csv files, col/rows. Each col is a pandas series. Basically a 2d series"
      ]
    },
    {
      "cell_type": "code",
      "metadata": {
        "id": "gaFSyGoySrJ7",
        "colab_type": "code",
        "colab": {}
      },
      "source": [
        "import pandas as pd\n",
        "import numpy as np"
      ],
      "execution_count": 3,
      "outputs": []
    },
    {
      "cell_type": "code",
      "metadata": {
        "id": "3cil6jKhXTGI",
        "colab_type": "code",
        "colab": {}
      },
      "source": [
        "#useful dataframe commands:\n",
        "df.info #general data, nulls, datatype per series, etc\n",
        "df.size #number of entries\n",
        "df.shape #row/col numbers\n",
        "df.describe #similar to r's summary\n",
        "df.dtypes #returns the datatypes from each series\n",
        "\n",
        "``"
      ],
      "execution_count": null,
      "outputs": []
    },
    {
      "cell_type": "markdown",
      "metadata": {
        "id": "Kj-9XnO1gEo0",
        "colab_type": "text"
      },
      "source": [
        "##Exercises with pandas series:"
      ]
    },
    {
      "cell_type": "code",
      "metadata": {
        "id": "5xf_or4HgIYG",
        "colab_type": "code",
        "colab": {
          "base_uri": "https://localhost:8080/",
          "height": 166
        },
        "outputId": "70477ff6-ba0e-4c16-e11e-f9810c320804"
      },
      "source": [
        "#create an empty series:\n",
        "series = pd.Series()\n",
        "\n",
        "#convert list into series:\n",
        "X = ['A','B','C']\n",
        "\n",
        "y = pd.Series(X,dtype = \"object\")\n",
        "print(y,type(y))\n",
        "y.name = \"My letters\" #kinda like a method, but more like using the names method in r, renames global name\n",
        "print(y.values) #show values\n"
      ],
      "execution_count": 18,
      "outputs": [
        {
          "output_type": "stream",
          "text": [
            "0    A\n",
            "1    B\n",
            "2    C\n",
            "dtype: object <class 'pandas.core.series.Series'>\n",
            "['A' 'B' 'C']\n"
          ],
          "name": "stdout"
        },
        {
          "output_type": "stream",
          "text": [
            "/usr/local/lib/python3.6/dist-packages/ipykernel_launcher.py:2: DeprecationWarning: The default dtype for empty Series will be 'object' instead of 'float64' in a future version. Specify a dtype explicitly to silence this warning.\n",
            "  \n"
          ],
          "name": "stderr"
        }
      ]
    },
    {
      "cell_type": "code",
      "metadata": {
        "id": "Z596C3b8h6Z2",
        "colab_type": "code",
        "colab": {
          "base_uri": "https://localhost:8080/",
          "height": 165
        },
        "outputId": "df2bb23c-edc1-4d05-a092-e80cdf3fcd87"
      },
      "source": [
        "#assign index names to the given y pandas series\n",
        "names = [\"first\",\"second\",\"third\"]\n",
        "y.index = names\n",
        "print(y)\n",
        "\n",
        "#print the first element in a series, can do either by list style or dic style!\n",
        "print(y.iloc[0]) # by pos\n",
        "print(y[\"first\"]) #by key \n",
        "\n",
        "#last element\n",
        "print(y.iloc[-1]) #pos\n",
        "print(y[\"third\"]) #key\n",
        "\n"
      ],
      "execution_count": 25,
      "outputs": [
        {
          "output_type": "stream",
          "text": [
            "first     A\n",
            "second    B\n",
            "third     C\n",
            "Name: My letters, dtype: object\n",
            "A\n",
            "A\n",
            "C\n",
            "C\n"
          ],
          "name": "stdout"
        }
      ]
    },
    {
      "cell_type": "code",
      "metadata": {
        "id": "yzfuWc33iv9B",
        "colab_type": "code",
        "colab": {
          "base_uri": "https://localhost:8080/",
          "height": 220
        },
        "outputId": "482f55cb-8691-4e49-d2f9-c91d652b7124"
      },
      "source": [
        "X = pd.Series(['A','B','C','D','E'],\n",
        "              index=['first','second','third','forth','fifth'])\n",
        "\n",
        "#show middle elements of x\n",
        "print(X.iloc[1:-1])\n",
        "print(X[[\"second\",\"third\",\"forth\"]])\n",
        "X[::-1] #reverse the series\n",
        "X.iloc[[0,-1]]"
      ],
      "execution_count": 33,
      "outputs": [
        {
          "output_type": "stream",
          "text": [
            "second    B\n",
            "third     C\n",
            "forth     D\n",
            "dtype: object\n",
            "second    B\n",
            "third     C\n",
            "forth     D\n",
            "dtype: object\n"
          ],
          "name": "stdout"
        },
        {
          "output_type": "execute_result",
          "data": {
            "text/plain": [
              "first    A\n",
              "fifth    E\n",
              "dtype: object"
            ]
          },
          "metadata": {
            "tags": []
          },
          "execution_count": 33
        }
      ]
    },
    {
      "cell_type": "code",
      "metadata": {
        "id": "KK-yKAbcjnde",
        "colab_type": "code",
        "colab": {
          "base_uri": "https://localhost:8080/",
          "height": 572
        },
        "outputId": "a3585d76-4d37-4be0-8b0b-7ce22ba5558e"
      },
      "source": [
        "#convert the given int pandas to float\n",
        "X = pd.Series([1,2,3,4,5],\n",
        "              index=['first','second','third','forth','fifth'])\n",
        "\n",
        "x = pd.Series(X,dtype = \"float32\") #can imput a different series into a series in the data arg\n",
        "print(x)\n",
        "\n",
        "x = x[::-1] #reverse the data\n",
        "print(x)\n",
        "\n",
        "#sort the data (by value, can also do by index if req)\n",
        "x = x.sort_values()\n",
        "\n",
        "x.iloc[4] = 10 #change 5th ele to 10\n",
        "print(x)\n",
        "\n",
        "#change middle eles to 0\n",
        "x.iloc[1:-1] = 0\n",
        "print(x)\n",
        "#add 5 to each element\n",
        "x +=5\n",
        "print(x)"
      ],
      "execution_count": 47,
      "outputs": [
        {
          "output_type": "stream",
          "text": [
            "first     1.0\n",
            "second    2.0\n",
            "third     3.0\n",
            "forth     4.0\n",
            "fifth     5.0\n",
            "dtype: float32\n",
            "fifth     5.0\n",
            "forth     4.0\n",
            "third     3.0\n",
            "second    2.0\n",
            "first     1.0\n",
            "dtype: float32\n",
            "first      1.0\n",
            "second     2.0\n",
            "third      3.0\n",
            "forth      4.0\n",
            "fifth     10.0\n",
            "dtype: float32\n",
            "first      1.0\n",
            "second     0.0\n",
            "third      0.0\n",
            "forth      0.0\n",
            "fifth     10.0\n",
            "dtype: float32\n",
            "first      6.0\n",
            "second     5.0\n",
            "third      5.0\n",
            "forth      5.0\n",
            "fifth     15.0\n",
            "dtype: float32\n"
          ],
          "name": "stdout"
        }
      ]
    },
    {
      "cell_type": "code",
      "metadata": {
        "id": "w_v_jI_vlHR0",
        "colab_type": "code",
        "colab": {
          "base_uri": "https://localhost:8080/",
          "height": 72
        },
        "outputId": "2512e960-03e0-4035-c327-4211d9d38223"
      },
      "source": [
        "X = pd.Series([-1,2,0,-4,5,6,0,0,-9,10])\n",
        "mask = X>0 #show a mask for all negative values of x\n",
        "X[mask] #get the negative values\n",
        "\n",
        "X[X>5] #get numbers higher than 5\n",
        "\n",
        "X[X>X.mean()] #numbers greater than the mean\n",
        "X[(X==2)|(X==10)]"
      ],
      "execution_count": 52,
      "outputs": [
        {
          "output_type": "execute_result",
          "data": {
            "text/plain": [
              "1     2\n",
              "9    10\n",
              "dtype: int64"
            ]
          },
          "metadata": {
            "tags": []
          },
          "execution_count": 52
        }
      ]
    },
    {
      "cell_type": "code",
      "metadata": {
        "id": "VesqtN3Rlt_8",
        "colab_type": "code",
        "colab": {
          "base_uri": "https://localhost:8080/",
          "height": 35
        },
        "outputId": "795f3ff5-bbfb-4c57-f8d0-69508b61dbcc"
      },
      "source": [
        "#return true if none of the elements is 0\n",
        "X.all()\n",
        "#return true if any of the elements is 0\n",
        "X.any()"
      ],
      "execution_count": 56,
      "outputs": [
        {
          "output_type": "execute_result",
          "data": {
            "text/plain": [
              "True"
            ]
          },
          "metadata": {
            "tags": []
          },
          "execution_count": 56
        }
      ]
    },
    {
      "cell_type": "code",
      "metadata": {
        "id": "f_0fXZ0JmE6z",
        "colab_type": "code",
        "colab": {
          "base_uri": "https://localhost:8080/",
          "height": 35
        },
        "outputId": "c86a75f0-793d-4abe-ba21-8503318ef8ea"
      },
      "source": [
        "X = pd.Series([3,5,6,7,2,3,4,9,4])\n",
        "#show the sum of series X's elements\n",
        "X.sum()\n",
        "#show the mean\n",
        "X.mean()\n",
        "#max\n",
        "X.max()\n"
      ],
      "execution_count": 57,
      "outputs": [
        {
          "output_type": "execute_result",
          "data": {
            "text/plain": [
              "43"
            ]
          },
          "metadata": {
            "tags": []
          },
          "execution_count": 57
        }
      ]
    },
    {
      "cell_type": "markdown",
      "metadata": {
        "id": "wEN9zF4zmUj5",
        "colab_type": "text"
      },
      "source": [
        "##Dataframe exercises"
      ]
    },
    {
      "cell_type": "code",
      "metadata": {
        "id": "jrMyiLwxnjNc",
        "colab_type": "code",
        "colab": {}
      },
      "source": [
        "import matplotlib.pyplot as plt"
      ],
      "execution_count": 59,
      "outputs": []
    },
    {
      "cell_type": "code",
      "metadata": {
        "id": "floshk9Dno9F",
        "colab_type": "code",
        "colab": {
          "base_uri": "https://localhost:8080/",
          "height": 387
        },
        "outputId": "85499192-7bc7-4d64-d457-d84616b159a2"
      },
      "source": [
        "#generate an empty pandas dataframe\n",
        "pd.DataFrame(data = [None],\n",
        "             index = [None],\n",
        "             columns = [None]) #notes, pandas seems to use camel case, keys are data, index (rows), columns\n",
        "\n",
        "#generate a dataframe from the marvel data\n",
        "\n",
        "\n",
        "marvel_data = [\n",
        "    ['Spider-Man', 'male', 1962],\n",
        "    ['Captain America', 'male', 1941],\n",
        "    ['Wolverine', 'male', 1974],\n",
        "    ['Iron Man', 'male', 1963],\n",
        "    ['Thor', 'male', 1963],\n",
        "    ['Thing', 'male', 1961],\n",
        "    ['Mister Fantastic', 'male', 1961],\n",
        "    ['Hulk', 'male', 1962],\n",
        "    ['Beast', 'male', 1963],\n",
        "    ['Invisible Woman', 'female', 1961],\n",
        "    ['Storm', 'female', 1975],\n",
        "    ['Namor', 'male', 1939],\n",
        "    ['Hawkeye', 'male', 1964],\n",
        "    ['Daredevil', 'male', 1964],\n",
        "    ['Doctor Strange', 'male', 1963],\n",
        "    ['Hank Pym', 'male', 1962],\n",
        "    ['Scarlet Witch', 'female', 1964],\n",
        "    ['Wasp', 'female', 1963],\n",
        "    ['Black Widow', 'female', 1964],\n",
        "    ['Vision', 'male', 1968]\n",
        "]\n",
        "\n",
        "Columns = [\"Hero\", \"Gender\", \"Issue\"] #generate column names\n",
        "mdf = pd.DataFrame(data = marvel_data, columns = Columns) #generate a dataframe\n",
        "mdf.index = mdf.iloc[:,0] #set hero names to index\n",
        "mdf = mdf.drop(['Hero'], axis = 1) #tells us to drop the column hero\n",
        "mdf = mdf.drop(['Namor', 'Hank Pym'], axis = 0) #pythonic counting starts at 0!\n",
        "print(mdf)"
      ],
      "execution_count": 87,
      "outputs": [
        {
          "output_type": "stream",
          "text": [
            "                  Gender  Issue\n",
            "Hero                           \n",
            "Spider-Man          male   1962\n",
            "Captain America     male   1941\n",
            "Wolverine           male   1974\n",
            "Iron Man            male   1963\n",
            "Thor                male   1963\n",
            "Thing               male   1961\n",
            "Mister Fantastic    male   1961\n",
            "Hulk                male   1962\n",
            "Beast               male   1963\n",
            "Invisible Woman   female   1961\n",
            "Storm             female   1975\n",
            "Hawkeye             male   1964\n",
            "Daredevil           male   1964\n",
            "Doctor Strange      male   1963\n",
            "Scarlet Witch     female   1964\n",
            "Wasp              female   1963\n",
            "Black Widow       female   1964\n",
            "Vision              male   1968\n"
          ],
          "name": "stdout"
        }
      ]
    },
    {
      "cell_type": "code",
      "metadata": {
        "id": "726wh69Vp9c6",
        "colab_type": "code",
        "colab": {
          "base_uri": "https://localhost:8080/",
          "height": 1000
        },
        "outputId": "abeff1a3-fa38-4ed0-9521-3d646367c209"
      },
      "source": [
        "#show the first 5 elements\n",
        "mdf.iloc[:5,] #iloc for elements, grab for columns\n",
        "mdf.iloc[-5:,]\n",
        "mdf.iloc[:5,].Gender.to_frame() #takes the first 5 rows, gets the .gender value, prints to a frame\n",
        "mdf.iloc[1:-1,].Issue.to_frame()\n",
        "mdf.iloc[[0,-1],]#first and last elements\n",
        "mdf.loc[\"Vision\",\"Issue\"] = 1964 #modify the first appearance of vision to 1964\n",
        "print(mdf)\n",
        "ypassed = 2020-mdf[\"Issue\"]\n",
        "print(ypassed)\n",
        "mdf[\"Years_passed\"] = ypassed\n",
        "print(mdf)"
      ],
      "execution_count": 97,
      "outputs": [
        {
          "output_type": "stream",
          "text": [
            "                  Gender  Issue  Years_passed\n",
            "Hero                                         \n",
            "Spider-Man          male   1962            58\n",
            "Captain America     male   1941            79\n",
            "Wolverine           male   1974            46\n",
            "Iron Man            male   1963            57\n",
            "Thor                male   1963            57\n",
            "Thing               male   1961            59\n",
            "Mister Fantastic    male   1961            59\n",
            "Hulk                male   1962            58\n",
            "Beast               male   1963            57\n",
            "Invisible Woman   female   1961            59\n",
            "Storm             female   1975            45\n",
            "Hawkeye             male   1964            56\n",
            "Daredevil           male   1964            56\n",
            "Doctor Strange      male   1963            57\n",
            "Scarlet Witch     female   1964            56\n",
            "Wasp              female   1963            57\n",
            "Black Widow       female   1964            56\n",
            "Vision              male   1964            56\n",
            "Hero\n",
            "Spider-Man          58\n",
            "Captain America     79\n",
            "Wolverine           46\n",
            "Iron Man            57\n",
            "Thor                57\n",
            "Thing               59\n",
            "Mister Fantastic    59\n",
            "Hulk                58\n",
            "Beast               57\n",
            "Invisible Woman     59\n",
            "Storm               45\n",
            "Hawkeye             56\n",
            "Daredevil           56\n",
            "Doctor Strange      57\n",
            "Scarlet Witch       56\n",
            "Wasp                57\n",
            "Black Widow         56\n",
            "Vision              56\n",
            "Name: Issue, dtype: int64\n",
            "                  Gender  Issue  Years_passed\n",
            "Hero                                         \n",
            "Spider-Man          male   1962            58\n",
            "Captain America     male   1941            79\n",
            "Wolverine           male   1974            46\n",
            "Iron Man            male   1963            57\n",
            "Thor                male   1963            57\n",
            "Thing               male   1961            59\n",
            "Mister Fantastic    male   1961            59\n",
            "Hulk                male   1962            58\n",
            "Beast               male   1963            57\n",
            "Invisible Woman   female   1961            59\n",
            "Storm             female   1975            45\n",
            "Hawkeye             male   1964            56\n",
            "Daredevil           male   1964            56\n",
            "Doctor Strange      male   1963            57\n",
            "Scarlet Witch     female   1964            56\n",
            "Wasp              female   1963            57\n",
            "Black Widow       female   1964            56\n",
            "Vision              male   1964            56\n"
          ],
          "name": "stdout"
        }
      ]
    },
    {
      "cell_type": "code",
      "metadata": {
        "id": "Xsr2FOfpsmC5",
        "colab_type": "code",
        "colab": {
          "base_uri": "https://localhost:8080/",
          "height": 112
        },
        "outputId": "f8001d5c-7062-403f-9189-d798898d7134"
      },
      "source": [
        "#show a mask for female characters\n",
        "mdf[\"Gender\"] == \"female\"\n",
        "#get the male characters\n",
        "mdf[mdf[\"Gender\"] == \"male\"]\n",
        "mdf[(mdf[\"Issue\"]>1970) & (mdf[\"Gender\"] == \"female\")] #get all characters issued after 1970 who were females"
      ],
      "execution_count": 104,
      "outputs": [
        {
          "output_type": "execute_result",
          "data": {
            "text/html": [
              "<div>\n",
              "<style scoped>\n",
              "    .dataframe tbody tr th:only-of-type {\n",
              "        vertical-align: middle;\n",
              "    }\n",
              "\n",
              "    .dataframe tbody tr th {\n",
              "        vertical-align: top;\n",
              "    }\n",
              "\n",
              "    .dataframe thead th {\n",
              "        text-align: right;\n",
              "    }\n",
              "</style>\n",
              "<table border=\"1\" class=\"dataframe\">\n",
              "  <thead>\n",
              "    <tr style=\"text-align: right;\">\n",
              "      <th></th>\n",
              "      <th>Gender</th>\n",
              "      <th>Issue</th>\n",
              "      <th>Years_passed</th>\n",
              "    </tr>\n",
              "    <tr>\n",
              "      <th>Hero</th>\n",
              "      <th></th>\n",
              "      <th></th>\n",
              "      <th></th>\n",
              "    </tr>\n",
              "  </thead>\n",
              "  <tbody>\n",
              "    <tr>\n",
              "      <th>Storm</th>\n",
              "      <td>female</td>\n",
              "      <td>1975</td>\n",
              "      <td>45</td>\n",
              "    </tr>\n",
              "  </tbody>\n",
              "</table>\n",
              "</div>"
            ],
            "text/plain": [
              "       Gender  Issue  Years_passed\n",
              "Hero                              \n",
              "Storm  female   1975            45"
            ]
          },
          "metadata": {
            "tags": []
          },
          "execution_count": 104
        }
      ]
    },
    {
      "cell_type": "code",
      "metadata": {
        "id": "-_gu8FdatXbn",
        "colab_type": "code",
        "colab": {
          "base_uri": "https://localhost:8080/",
          "height": 112
        },
        "outputId": "1e7191f5-641b-42d1-9afc-9b4b0cfd7221"
      },
      "source": [
        "#show basic stats\n",
        "mdf.describe()\n",
        "mdf[\"Issue\"].mean() #can also perform as below\n",
        "mdf[mdf.Issue == mdf.Issue.min()]"
      ],
      "execution_count": 110,
      "outputs": [
        {
          "output_type": "execute_result",
          "data": {
            "text/html": [
              "<div>\n",
              "<style scoped>\n",
              "    .dataframe tbody tr th:only-of-type {\n",
              "        vertical-align: middle;\n",
              "    }\n",
              "\n",
              "    .dataframe tbody tr th {\n",
              "        vertical-align: top;\n",
              "    }\n",
              "\n",
              "    .dataframe thead th {\n",
              "        text-align: right;\n",
              "    }\n",
              "</style>\n",
              "<table border=\"1\" class=\"dataframe\">\n",
              "  <thead>\n",
              "    <tr style=\"text-align: right;\">\n",
              "      <th></th>\n",
              "      <th>Gender</th>\n",
              "      <th>Issue</th>\n",
              "      <th>Years_passed</th>\n",
              "    </tr>\n",
              "    <tr>\n",
              "      <th>Hero</th>\n",
              "      <th></th>\n",
              "      <th></th>\n",
              "      <th></th>\n",
              "    </tr>\n",
              "  </thead>\n",
              "  <tbody>\n",
              "    <tr>\n",
              "      <th>Captain America</th>\n",
              "      <td>male</td>\n",
              "      <td>1941</td>\n",
              "      <td>79</td>\n",
              "    </tr>\n",
              "  </tbody>\n",
              "</table>\n",
              "</div>"
            ],
            "text/plain": [
              "                Gender  Issue  Years_passed\n",
              "Hero                                       \n",
              "Captain America   male   1941            79"
            ]
          },
          "metadata": {
            "tags": []
          },
          "execution_count": 110
        }
      ]
    },
    {
      "cell_type": "code",
      "metadata": {
        "id": "4_CGGLs_t-7b",
        "colab_type": "code",
        "colab": {
          "base_uri": "https://localhost:8080/",
          "height": 635
        },
        "outputId": "9d630dde-ad19-42cd-aa44-9a62dae80027"
      },
      "source": [
        "# reset index\n",
        "#mdf = mdf.reset_index()\n",
        "#plot values of issue\n",
        "print(mdf)\n",
        "plt.plot(mdf.index,mdf.Issue)"
      ],
      "execution_count": 118,
      "outputs": [
        {
          "output_type": "stream",
          "text": [
            "    level_0  index              Hero  Gender  Issue  Years_passed\n",
            "0         0      0        Spider-Man    male   1962            58\n",
            "1         1      1   Captain America    male   1941            79\n",
            "2         2      2         Wolverine    male   1974            46\n",
            "3         3      3          Iron Man    male   1963            57\n",
            "4         4      4              Thor    male   1963            57\n",
            "5         5      5             Thing    male   1961            59\n",
            "6         6      6  Mister Fantastic    male   1961            59\n",
            "7         7      7              Hulk    male   1962            58\n",
            "8         8      8             Beast    male   1963            57\n",
            "9         9      9   Invisible Woman  female   1961            59\n",
            "10       10     10             Storm  female   1975            45\n",
            "11       11     11           Hawkeye    male   1964            56\n",
            "12       12     12         Daredevil    male   1964            56\n",
            "13       13     13    Doctor Strange    male   1963            57\n",
            "14       14     14     Scarlet Witch  female   1964            56\n",
            "15       15     15              Wasp  female   1963            57\n",
            "16       16     16       Black Widow  female   1964            56\n",
            "17       17     17            Vision    male   1964            56\n"
          ],
          "name": "stdout"
        },
        {
          "output_type": "execute_result",
          "data": {
            "text/plain": [
              "[<matplotlib.lines.Line2D at 0x7f5f64486400>]"
            ]
          },
          "metadata": {
            "tags": []
          },
          "execution_count": 118
        },
        {
          "output_type": "display_data",
          "data": {
            "image/png": "[encoded data removed]",
            "text/plain": [
              "<Figure size 432x288 with 1 Axes>"
            ]
          },
          "metadata": {
            "tags": [],
            "needs_background": "light"
          }
        }
      ]
    }
  ]
}
