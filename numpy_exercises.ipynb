{
  "nbformat": 4,
  "nbformat_minor": 0,
  "metadata": {
    "colab": {
      "name": "numpy_exercises.ipynb",
      "provenance": [],
      "authorship_tag": "ABX9TyNTSKvzVgxdgJcF/OQRP5NV",
      "include_colab_link": true
    },
    "kernelspec": {
      "name": "python3",
      "display_name": "Python 3"
    }
  },
  "cells": [
    {
      "cell_type": "markdown",
      "metadata": {
        "id": "view-in-github",
        "colab_type": "text"
      },
      "source": [
        "<a href=\"https://colab.research.google.com/github/kellisfm/100_days_of_code_challange/blob/master/numpy_exercises.ipynb\" target=\"_parent\"><img src=\"https://colab.research.google.com/assets/colab-badge.svg\" alt=\"Open In Colab\"/></a>"
      ]
    },
    {
      "cell_type": "code",
      "metadata": {
        "id": "fhMtyn9SsXZu",
        "colab_type": "code",
        "colab": {
          "base_uri": "https://localhost:8080/",
          "height": 35
        },
        "outputId": "b6b88055-208d-4803-efac-73bc4737dc95"
      },
      "source": [
        "import numpy as np\n",
        "print(np.__version__)"
      ],
      "execution_count": null,
      "outputs": [
        {
          "output_type": "stream",
          "text": [
            "1.18.5\n"
          ],
          "name": "stdout"
        }
      ]
    },
    {
      "cell_type": "markdown",
      "metadata": {
        "id": "DfJuMRoushgI",
        "colab_type": "text"
      },
      "source": [
        "##exercises:\n",
        "create a numpy array of size 10, filled with 0s\n",
        "\n",
        "create an array with values ranging from 10 to 49\n",
        "\n",
        "create a matrix of 2x2 integers, filled with ones\n",
        "\n",
        "create a numpy matrix of 3x2 floats, filled with ones\n",
        "\n",
        "given the x numpy array, create a new array with the same size, shape and type as x, filled with 1s\n",
        "\n",
        "given x numpy array, create a new matrix with the same shape and type filled with 0s\n",
        "\n",
        "create matrix of 4x4 filled with fives\n",
        "\n",
        "given x create a new matrix with shame type/shape filled with sevens\n",
        "\n",
        "create a 3x3 identity numpy matrixs with ones on the diagonal and 0s elsewhere\n",
        "\n",
        "create a numpy array filled with 3 random values between 1 and 10\n",
        "\n",
        "create a 3x3x3 numpy matrix filled with random floats\n",
        "\n",
        "given list x convert to a y numpy array\n",
        "\n",
        "given x make a copy and store on y\n",
        "\n",
        "create a numpy array with the number 1-10\n",
        "\n",
        "create a numpy array with the odds 1-10\n",
        "\n",
        "1-10 descending\n",
        "\n",
        "3x3 with values ranging 0-8\n",
        "\n",
        "show memory size of the given z numpy matrix\n",
        "\n"
      ]
    },
    {
      "cell_type": "code",
      "metadata": {
        "id": "WouqKWipugtY",
        "colab_type": "code",
        "colab": {}
      },
      "source": [
        "#x array referenced in multiple questions\n",
        "\n",
        "X = np.arange(4, dtype=np.int)"
      ],
      "execution_count": null,
      "outputs": []
    },
    {
      "cell_type": "code",
      "metadata": {
        "id": "vgfcb32xtrpo",
        "colab_type": "code",
        "colab": {
          "base_uri": "https://localhost:8080/",
          "height": 35
        },
        "outputId": "8648594b-b4f8-47fb-8b78-9912a50a2cf0"
      },
      "source": [
        "#10 0s\n",
        "np.zeros(10)"
      ],
      "execution_count": null,
      "outputs": [
        {
          "output_type": "execute_result",
          "data": {
            "text/plain": [
              "array([0., 0., 0., 0., 0., 0., 0., 0., 0., 0.])"
            ]
          },
          "metadata": {
            "tags": []
          },
          "execution_count": 2
        }
      ]
    },
    {
      "cell_type": "code",
      "metadata": {
        "id": "x8fgSLW_t9KS",
        "colab_type": "code",
        "colab": {
          "base_uri": "https://localhost:8080/",
          "height": 72
        },
        "outputId": "bf7ca5dc-0bce-4047-bec6-efe883d9f2cd"
      },
      "source": [
        "#values ranging from 10-49\n",
        "np.arange(10,50) #end 1 higher than needed"
      ],
      "execution_count": null,
      "outputs": [
        {
          "output_type": "execute_result",
          "data": {
            "text/plain": [
              "array([10, 11, 12, 13, 14, 15, 16, 17, 18, 19, 20, 21, 22, 23, 24, 25, 26,\n",
              "       27, 28, 29, 30, 31, 32, 33, 34, 35, 36, 37, 38, 39, 40, 41, 42, 43,\n",
              "       44, 45, 46, 47, 48, 49])"
            ]
          },
          "metadata": {
            "tags": []
          },
          "execution_count": 4
        }
      ]
    },
    {
      "cell_type": "code",
      "metadata": {
        "id": "enkJq4vnuHJ_",
        "colab_type": "code",
        "colab": {
          "base_uri": "https://localhost:8080/",
          "height": 54
        },
        "outputId": "b958688e-42ae-4711-d42d-9fd1e7e5a0fe"
      },
      "source": [
        "#2x2 integers, filled with 1s\n",
        "np.ones([2,2],dtype = int)"
      ],
      "execution_count": null,
      "outputs": [
        {
          "output_type": "execute_result",
          "data": {
            "text/plain": [
              "array([[1, 1],\n",
              "       [1, 1]])"
            ]
          },
          "metadata": {
            "tags": []
          },
          "execution_count": 5
        }
      ]
    },
    {
      "cell_type": "code",
      "metadata": {
        "id": "1WU8lRXnuSBg",
        "colab_type": "code",
        "colab": {
          "base_uri": "https://localhost:8080/",
          "height": 72
        },
        "outputId": "41284b21-4510-4847-8106-b58d7eb58438"
      },
      "source": [
        "#3x2 floats, ones\n",
        "np.ones([3,2],dtype = float)"
      ],
      "execution_count": null,
      "outputs": [
        {
          "output_type": "execute_result",
          "data": {
            "text/plain": [
              "array([[1., 1.],\n",
              "       [1., 1.],\n",
              "       [1., 1.]])"
            ]
          },
          "metadata": {
            "tags": []
          },
          "execution_count": 6
        }
      ]
    },
    {
      "cell_type": "code",
      "metadata": {
        "id": "PFvsp4CLulrz",
        "colab_type": "code",
        "colab": {
          "base_uri": "https://localhost:8080/",
          "height": 35
        },
        "outputId": "c0102c72-8b6a-4b39-db33-86b3e74fd10a"
      },
      "source": [
        "np.ones_like(X) #array of same type and shape as x, but with only ones\n",
        "np.zeros_like(X) #array of same type/shape, but with 0s\n",
        "np.ones_like(X)*7 #same type shape, but with 7s"
      ],
      "execution_count": null,
      "outputs": [
        {
          "output_type": "execute_result",
          "data": {
            "text/plain": [
              "array([7, 7, 7, 7])"
            ]
          },
          "metadata": {
            "tags": []
          },
          "execution_count": 13
        }
      ]
    },
    {
      "cell_type": "code",
      "metadata": {
        "id": "oVn1r00uu84U",
        "colab_type": "code",
        "colab": {
          "base_uri": "https://localhost:8080/",
          "height": 109
        },
        "outputId": "cc98088b-7350-4702-f388-4ab651ab18ca"
      },
      "source": [
        "np.ones([5,5])*5 #5x5 array of 5s"
      ],
      "execution_count": null,
      "outputs": [
        {
          "output_type": "execute_result",
          "data": {
            "text/plain": [
              "array([[5., 5., 5., 5., 5.],\n",
              "       [5., 5., 5., 5., 5.],\n",
              "       [5., 5., 5., 5., 5.],\n",
              "       [5., 5., 5., 5., 5.],\n",
              "       [5., 5., 5., 5., 5.]])"
            ]
          },
          "metadata": {
            "tags": []
          },
          "execution_count": 12
        }
      ]
    },
    {
      "cell_type": "code",
      "metadata": {
        "id": "Z0Qy_3MvvFd8",
        "colab_type": "code",
        "colab": {
          "base_uri": "https://localhost:8080/",
          "height": 72
        },
        "outputId": "9f630a7f-9885-4a76-d419-68f49c2829c2"
      },
      "source": [
        "np.identity(3) #identity creates square array with 1s on diagonal, useful for round robin type charts?"
      ],
      "execution_count": null,
      "outputs": [
        {
          "output_type": "execute_result",
          "data": {
            "text/plain": [
              "array([[1., 0., 0.],\n",
              "       [0., 1., 0.],\n",
              "       [0., 0., 1.]])"
            ]
          },
          "metadata": {
            "tags": []
          },
          "execution_count": 14
        }
      ]
    },
    {
      "cell_type": "code",
      "metadata": {
        "id": "PDikoTeQvhwi",
        "colab_type": "code",
        "colab": {
          "base_uri": "https://localhost:8080/",
          "height": 35
        },
        "outputId": "08ba76b0-f6b8-44ab-aeb5-22ac6d0b2b23"
      },
      "source": [
        "np.random.randint(10,size = 3) #random integers"
      ],
      "execution_count": null,
      "outputs": [
        {
          "output_type": "execute_result",
          "data": {
            "text/plain": [
              "array([0, 5, 8])"
            ]
          },
          "metadata": {
            "tags": []
          },
          "execution_count": 15
        }
      ]
    },
    {
      "cell_type": "code",
      "metadata": {
        "id": "uxD-uf3av2-r",
        "colab_type": "code",
        "colab": {
          "base_uri": "https://localhost:8080/",
          "height": 220
        },
        "outputId": "7d2688e6-aa38-4b89-b999-db74a79b89a1"
      },
      "source": [
        "np.random.randn(3,3,3) #generates random numbers from a normal distribution with sd 1, centered on 0"
      ],
      "execution_count": null,
      "outputs": [
        {
          "output_type": "execute_result",
          "data": {
            "text/plain": [
              "array([[[ 1.21725396,  0.53372265,  0.4495021 ],\n",
              "        [ 0.37071803, -0.48777229, -0.79307813],\n",
              "        [ 0.87030636,  0.3838547 ,  0.44259526]],\n",
              "\n",
              "       [[ 0.81079013, -0.70307169, -0.43791901],\n",
              "        [ 1.24151389,  0.27976102, -0.07689512],\n",
              "        [ 0.51865382, -0.57101271, -0.21927165]],\n",
              "\n",
              "       [[ 0.30725386,  1.06849563, -1.22954512],\n",
              "        [-1.03207691,  1.35071129,  0.45093764],\n",
              "        [-1.37614606, -1.09139257,  1.33415842]]])"
            ]
          },
          "metadata": {
            "tags": []
          },
          "execution_count": 19
        }
      ]
    },
    {
      "cell_type": "code",
      "metadata": {
        "id": "pKmaDiQ1wgq1",
        "colab_type": "code",
        "colab": {
          "base_uri": "https://localhost:8080/",
          "height": 35
        },
        "outputId": "13a3e19f-3efa-4973-f0db-43fe7599d632"
      },
      "source": [
        "np.array(X) #converts list to array\n",
        "np.copy(X) #makes a copy that can be edited independantly from the OG"
      ],
      "execution_count": null,
      "outputs": [
        {
          "output_type": "execute_result",
          "data": {
            "text/plain": [
              "array([0, 1, 2, 3])"
            ]
          },
          "metadata": {
            "tags": []
          },
          "execution_count": 20
        }
      ]
    },
    {
      "cell_type": "code",
      "metadata": {
        "id": "7W9bY24NwxAB",
        "colab_type": "code",
        "colab": {
          "base_uri": "https://localhost:8080/",
          "height": 72
        },
        "outputId": "6396b8aa-63d9-4a42-c7c1-639b2dc5460f"
      },
      "source": [
        "np.arange(1,11) #1-10 \n",
        "np.arange(1,11,2) #only odds\n",
        "np.arange(1,11)[::-1] #prints in reverse order\n",
        "np.arange(9).reshape(3,3) #reshape converts the row,col of interest"
      ],
      "execution_count": null,
      "outputs": [
        {
          "output_type": "execute_result",
          "data": {
            "text/plain": [
              "array([[0, 1, 2],\n",
              "       [3, 4, 5],\n",
              "       [6, 7, 8]])"
            ]
          },
          "metadata": {
            "tags": []
          },
          "execution_count": 30
        }
      ]
    },
    {
      "cell_type": "code",
      "metadata": {
        "id": "vRds9pEyxuY9",
        "colab_type": "code",
        "colab": {
          "base_uri": "https://localhost:8080/",
          "height": 35
        },
        "outputId": "acb4e34d-cdf7-4aad-a3e0-081286fe9101"
      },
      "source": [
        "print(\"%d bytes\"%(X.size *X.itemsize)) #prints req memory of the object x in bytes"
      ],
      "execution_count": null,
      "outputs": [
        {
          "output_type": "stream",
          "text": [
            "32 bytes\n"
          ],
          "name": "stdout"
        }
      ]
    },
    {
      "cell_type": "markdown",
      "metadata": {
        "id": "bAz5t_4zyBWh",
        "colab_type": "text"
      },
      "source": [
        "## array indexing\n"
      ]
    },
    {
      "cell_type": "code",
      "metadata": {
        "id": "6fx96b0_yF_x",
        "colab_type": "code",
        "colab": {
          "base_uri": "https://localhost:8080/",
          "height": 35
        },
        "outputId": "65eabb5a-9677-4fc2-95f3-4d957d3f0589"
      },
      "source": [
        "#given x show first element:\n",
        "X[0]\n",
        "#show last element:\n",
        "X[-1]\n",
        "#show first three elements:\n",
        "X[:3] #remember it doesnt show the last element\n",
        "#show all middle elements:\n",
        "X[1:-1]\n",
        "#show in reverse:\n",
        "X[::-1]\n",
        "#show odd elements\n",
        "X[::2]\n"
      ],
      "execution_count": null,
      "outputs": [
        {
          "output_type": "execute_result",
          "data": {
            "text/plain": [
              "array([0, 2])"
            ]
          },
          "metadata": {
            "tags": []
          },
          "execution_count": 42
        }
      ]
    },
    {
      "cell_type": "code",
      "metadata": {
        "id": "VxildE9lyOHa",
        "colab_type": "code",
        "colab": {
          "base_uri": "https://localhost:8080/",
          "height": 54
        },
        "outputId": "12f0cab5-d410-46f6-dd4d-f37698237100"
      },
      "source": [
        "#given x, show first row\n",
        "X = np.array([\n",
        "    [1,   2,  3,  4],\n",
        "    [5,   6,  7,  8],\n",
        "    [9,  10, 11, 12],\n",
        "    [13, 14, 15, 16]\n",
        "])\n",
        "X[0][:]\n",
        "#show last row\n",
        "X[-1]\n",
        "#fe, fr\n",
        "X[0,0]\n",
        "#le,lr\n",
        "X[-1,-1]\n",
        "#middle row and column elements\n",
        "X[1:-1,1:-1]\n",
        "#first 2 ele, 2 row\n",
        "X[:2,:2]\n",
        "#last 2 ele, last 2 row\n",
        "X[-2:,-2:]"
      ],
      "execution_count": null,
      "outputs": [
        {
          "output_type": "execute_result",
          "data": {
            "text/plain": [
              "array([[11, 12],\n",
              "       [15, 16]])"
            ]
          },
          "metadata": {
            "tags": []
          },
          "execution_count": 58
        }
      ]
    },
    {
      "cell_type": "markdown",
      "metadata": {
        "id": "f1DcbiR57oB6",
        "colab_type": "text"
      },
      "source": [
        "## array manipulation"
      ]
    },
    {
      "cell_type": "code",
      "metadata": {
        "id": "vJHYIicA78Et",
        "colab_type": "code",
        "colab": {
          "base_uri": "https://localhost:8080/",
          "height": 91
        },
        "outputId": "836013c8-0024-4eee-ae4f-251002d02409"
      },
      "source": [
        "#reverse the array\n",
        "x = (X)[::-1,::-1] # ::-1 swaps order, repeat for number of dimensions\n",
        "print(x)"
      ],
      "execution_count": 63,
      "outputs": [
        {
          "output_type": "stream",
          "text": [
            "[[16 15 14 13]\n",
            " [12 11 10  9]\n",
            " [ 8  7  6  5]\n",
            " [ 4  3  2  1]]\n"
          ],
          "name": "stdout"
        }
      ]
    },
    {
      "cell_type": "code",
      "metadata": {
        "id": "isCKluqR7j6I",
        "colab_type": "code",
        "colab": {
          "base_uri": "https://localhost:8080/",
          "height": 91
        },
        "outputId": "c9ffa873-00f5-45a7-93fe-70611c233c04"
      },
      "source": [
        "np.array(X,np.float)#convert to float, can't just float have to rearray as a float"
      ],
      "execution_count": 60,
      "outputs": [
        {
          "output_type": "execute_result",
          "data": {
            "text/plain": [
              "array([[ 1.,  2.,  3.,  4.],\n",
              "       [ 5.,  6.,  7.,  8.],\n",
              "       [ 9., 10., 11., 12.],\n",
              "       [13., 14., 15., 16.]])"
            ]
          },
          "metadata": {
            "tags": []
          },
          "execution_count": 60
        }
      ]
    },
    {
      "cell_type": "code",
      "metadata": {
        "id": "s8ZUi4Pc8Uwa",
        "colab_type": "code",
        "colab": {
          "base_uri": "https://localhost:8080/",
          "height": 91
        },
        "outputId": "e7b0a88d-ce32-4533-b433-e12504ed9e28"
      },
      "source": [
        "x.sort() #sorts each individual list, but doesnt sort higher dimensions\n",
        "print(x)"
      ],
      "execution_count": 65,
      "outputs": [
        {
          "output_type": "stream",
          "text": [
            "[[13 14 15 16]\n",
            " [ 9 10 11 12]\n",
            " [ 5  6  7  8]\n",
            " [ 1  2  3  4]]\n"
          ],
          "name": "stdout"
        }
      ]
    },
    {
      "cell_type": "code",
      "metadata": {
        "id": "GBodOJgk8k5D",
        "colab_type": "code",
        "colab": {
          "base_uri": "https://localhost:8080/",
          "height": 165
        },
        "outputId": "2a4fb2c0-4beb-43e0-d38f-31ddc91f7268"
      },
      "source": [
        "#convert 3rd element to 1s\n",
        "x[2] = 1\n",
        "print(x)\n",
        "#lr li to 0\n",
        "x[-1,-1] = 0 #NOT [x][x], use [x,x]\n",
        "#add 5 to each element\n",
        "x+5"
      ],
      "execution_count": 70,
      "outputs": [
        {
          "output_type": "stream",
          "text": [
            "[[13 14 15 16]\n",
            " [ 9 10 11 12]\n",
            " [ 1  1  1  1]\n",
            " [ 1  2  3  0]]\n"
          ],
          "name": "stdout"
        },
        {
          "output_type": "execute_result",
          "data": {
            "text/plain": [
              "array([[18, 19, 20, 21],\n",
              "       [14, 15, 16, 17],\n",
              "       [ 6,  6,  6,  6],\n",
              "       [ 6,  7,  8,  5]])"
            ]
          },
          "metadata": {
            "tags": []
          },
          "execution_count": 70
        }
      ]
    },
    {
      "cell_type": "markdown",
      "metadata": {
        "id": "7exqLbqh9QMx",
        "colab_type": "text"
      },
      "source": [
        "##boolean arrays"
      ]
    },
    {
      "cell_type": "code",
      "metadata": {
        "id": "1qxowaV99ScD",
        "colab_type": "code",
        "colab": {
          "base_uri": "https://localhost:8080/",
          "height": 54
        },
        "outputId": "e7278c84-83c7-4086-8f82-9a66594f2191"
      },
      "source": [
        "#given x make a mask showing only negative elements:\n",
        "X = np.array([-1,2,0,-4,5,6,0,0,-9,10])\n",
        "X[X<0]\n",
        "\n",
        "#get numbers higher than 5\n",
        "X[X>5]\n",
        "#numbers larger than the mean\n",
        "mask = X > X.mean()\n",
        "X[mask]\n",
        "#numbers equal to 2 or 10\n",
        "mask = (X == 10) | (X == 2)\n",
        "print(mask,X)\n",
        "X[mask]"
      ],
      "execution_count": 82,
      "outputs": [
        {
          "output_type": "stream",
          "text": [
            "[False  True False False False False False False False  True] [-1  2  0 -4  5  6  0  0 -9 10]\n"
          ],
          "name": "stdout"
        },
        {
          "output_type": "execute_result",
          "data": {
            "text/plain": [
              "array([ 2, 10])"
            ]
          },
          "metadata": {
            "tags": []
          },
          "execution_count": 82
        }
      ]
    },
    {
      "cell_type": "code",
      "metadata": {
        "id": "ZPtzvlLf-n-c",
        "colab_type": "code",
        "colab": {
          "base_uri": "https://localhost:8080/",
          "height": 35
        },
        "outputId": "70b08880-5483-4fbc-a9a6-ddf47205bc36"
      },
      "source": [
        "#return true if none of the elements are 0\n",
        "X.all()\n",
        "#return true if any of the elements are 0\n",
        "X.any()"
      ],
      "execution_count": 86,
      "outputs": [
        {
          "output_type": "execute_result",
          "data": {
            "text/plain": [
              "True"
            ]
          },
          "metadata": {
            "tags": []
          },
          "execution_count": 86
        }
      ]
    }
  ]
}