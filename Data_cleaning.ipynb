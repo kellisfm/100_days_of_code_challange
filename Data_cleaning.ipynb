{
  "nbformat": 4,
  "nbformat_minor": 0,
  "metadata": {
    "colab": {
      "name": "Data_cleaning.ipynb",
      "provenance": [],
      "authorship_tag": "ABX9TyPW3NdBJ3RRGgRr/XTnGdR/",
      "include_colab_link": true
    },
    "kernelspec": {
      "name": "python3",
      "display_name": "Python 3"
    }
  },
  "cells": [
    {
      "cell_type": "markdown",
      "metadata": {
        "id": "view-in-github",
        "colab_type": "text"
      },
      "source": [
        "<a href=\"https://colab.research.google.com/github/kellisfm/100_days_of_code_challange/blob/master/Data_cleaning.ipynb\" target=\"_parent\"><img src=\"https://colab.research.google.com/assets/colab-badge.svg\" alt=\"Open In Colab\"/></a>"
      ]
    },
    {
      "cell_type": "markdown",
      "metadata": {
        "id": "lw6CyXpR3-PY",
        "colab_type": "text"
      },
      "source": [
        "##handling missing data with pandas\n",
        "Mostly simple to identify and fix missing or null values,\n",
        "can get trickier to identify silly but not invalid values. Where do you draw the line?\n",
        "\n",
        "Key pandas functions:\n",
        "pd.isnull(np.nan) ####this is the better one\n",
        "\n",
        "pd.isna\n",
        "\n",
        "pd.notnull(data).sum() tells you how many null values you have, same as R\n",
        "\n",
        "series.dropna() is a quick way to drop missing nums\n",
        "\n",
        "series.fillna(filler) a quick way to replace them\n",
        "\n",
        "series.value_counts() gives all values in a column and their number of entries, useful for limited value columns\n",
        "\n",
        "series.duplicates() returns T/F for if a value has multiple entry, supplimented by drop_duplicates()\n",
        "\n",
        "\n",
        "\n",
        "##reading data with pandas\n",
        "\n",
        "ccan use read_basicallyanything() to extract data from just about any data type including: excel, csv ,txt, and even html.\n",
        "\n",
        "to_datatype(\"filename\") is the inverse and writes to a csv\n",
        "\n",
        "\n",
        "\n",
        "\n"
      ]
    },
    {
      "cell_type": "code",
      "metadata": {
        "id": "tstBiZK2yh2W",
        "colab_type": "code",
        "colab": {}
      },
      "source": [
        "import pandas as pd\n",
        "import numpy as np"
      ],
      "execution_count": 1,
      "outputs": []
    },
    {
      "cell_type": "code",
      "metadata": {
        "id": "63QpgOABgKeb",
        "colab_type": "code",
        "colab": {}
      },
      "source": [
        "import requests\n",
        "html_url = \"https://en.wikipedia.org/wiki/The_Simpsons\""
      ],
      "execution_count": 3,
      "outputs": []
    },
    {
      "cell_type": "code",
      "metadata": {
        "id": "xasjxdmdgQOJ",
        "colab_type": "code",
        "colab": {}
      },
      "source": [
        "r = requests.get(html_url)\n",
        "wiki_tables= pd.read_html(r.text,header = 0)"
      ],
      "execution_count": 5,
      "outputs": []
    },
    {
      "cell_type": "code",
      "metadata": {
        "id": "X4JD1CCsgkEf",
        "colab_type": "code",
        "colab": {
          "base_uri": "https://localhost:8080/",
          "height": 206
        },
        "outputId": "f82e7bb6-273f-4d9a-e32d-0a5edd98952f"
      },
      "source": [
        "simpsons = wiki_tables[1]\n",
        "simpsons.head()"
      ],
      "execution_count": 7,
      "outputs": [
        {
          "output_type": "execute_result",
          "data": {
            "text/html": [
              "<div>\n",
              "<style scoped>\n",
              "    .dataframe tbody tr th:only-of-type {\n",
              "        vertical-align: middle;\n",
              "    }\n",
              "\n",
              "    .dataframe tbody tr th {\n",
              "        vertical-align: top;\n",
              "    }\n",
              "\n",
              "    .dataframe thead th {\n",
              "        text-align: right;\n",
              "    }\n",
              "</style>\n",
              "<table border=\"1\" class=\"dataframe\">\n",
              "  <thead>\n",
              "    <tr style=\"text-align: right;\">\n",
              "      <th></th>\n",
              "      <th>Season</th>\n",
              "      <th>Season.1</th>\n",
              "      <th>No. ofepisodes</th>\n",
              "      <th>Originally aired</th>\n",
              "      <th>Originally aired.1</th>\n",
              "      <th>Originally aired.2</th>\n",
              "      <th>Viewership</th>\n",
              "      <th>Viewership.1</th>\n",
              "      <th>Viewership.2</th>\n",
              "    </tr>\n",
              "  </thead>\n",
              "  <tbody>\n",
              "    <tr>\n",
              "      <th>0</th>\n",
              "      <td>Season</td>\n",
              "      <td>Season</td>\n",
              "      <td>No. ofepisodes</td>\n",
              "      <td>Season premiere</td>\n",
              "      <td>Season finale</td>\n",
              "      <td>Time Slot (ET)</td>\n",
              "      <td>Avg. viewers(in millions)</td>\n",
              "      <td>Most watched episode</td>\n",
              "      <td>Most watched episode</td>\n",
              "    </tr>\n",
              "    <tr>\n",
              "      <th>1</th>\n",
              "      <td>Season</td>\n",
              "      <td>Season</td>\n",
              "      <td>No. ofepisodes</td>\n",
              "      <td>Season premiere</td>\n",
              "      <td>Season finale</td>\n",
              "      <td>Time Slot (ET)</td>\n",
              "      <td>Avg. viewers(in millions)</td>\n",
              "      <td>Viewers(millions)</td>\n",
              "      <td>Episode Title</td>\n",
              "    </tr>\n",
              "    <tr>\n",
              "      <th>2</th>\n",
              "      <td>1</td>\n",
              "      <td>1989–90</td>\n",
              "      <td>13</td>\n",
              "      <td>December 17, 1989</td>\n",
              "      <td>May 13, 1990</td>\n",
              "      <td>Sunday 8:30 pm</td>\n",
              "      <td>27.8</td>\n",
              "      <td>33.5</td>\n",
              "      <td>\"Life on the Fast Lane\"</td>\n",
              "    </tr>\n",
              "    <tr>\n",
              "      <th>3</th>\n",
              "      <td>2</td>\n",
              "      <td>1990–91</td>\n",
              "      <td>22</td>\n",
              "      <td>October 11, 1990</td>\n",
              "      <td>July 11, 1991</td>\n",
              "      <td>Thursday 8:00 pm</td>\n",
              "      <td>24.4</td>\n",
              "      <td>33.6</td>\n",
              "      <td>\"Bart Gets an F\"</td>\n",
              "    </tr>\n",
              "    <tr>\n",
              "      <th>4</th>\n",
              "      <td>3</td>\n",
              "      <td>1991–92</td>\n",
              "      <td>24</td>\n",
              "      <td>September 19, 1991</td>\n",
              "      <td>August 27, 1992</td>\n",
              "      <td>Thursday 8:00 pm</td>\n",
              "      <td>21.8</td>\n",
              "      <td>25.5</td>\n",
              "      <td>\"Colonel Homer\"</td>\n",
              "    </tr>\n",
              "  </tbody>\n",
              "</table>\n",
              "</div>"
            ],
            "text/plain": [
              "   Season Season.1  ...          Viewership.1             Viewership.2\n",
              "0  Season   Season  ...  Most watched episode     Most watched episode\n",
              "1  Season   Season  ...     Viewers(millions)            Episode Title\n",
              "2       1  1989–90  ...                  33.5  \"Life on the Fast Lane\"\n",
              "3       2  1990–91  ...                  33.6         \"Bart Gets an F\"\n",
              "4       3  1991–92  ...                  25.5          \"Colonel Homer\"\n",
              "\n",
              "[5 rows x 9 columns]"
            ]
          },
          "metadata": {
            "tags": []
          },
          "execution_count": 7
        }
      ]
    },
    {
      "cell_type": "markdown",
      "metadata": {
        "id": "PcSB3PI2Dv5i",
        "colab_type": "text"
      },
      "source": [
        "##Matplotlib\n",
        "basically ggplot in R lmao\n",
        "\n",
        "Can either do global api, weird, why would you do that\n",
        "\n",
        "local api, like R, makes sense\n",
        "\n",
        "Useful code can be found at:\n",
        "https://github.com/ine-rmotr-curriculum/data-cleaning-rmotr-freecodecamp\n"
      ]
    }
  ]
}